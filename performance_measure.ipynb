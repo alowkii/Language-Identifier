{
 "cells": [
  {
   "cell_type": "code",
   "execution_count": 18,
   "metadata": {},
   "outputs": [],
   "source": [
    "import pandas as pd\n",
    "import time\n",
    "import pickle\n",
    "from sklearn.metrics import accuracy_score, precision_score, recall_score, f1_score\n",
    "import json\n",
    "\n",
    "def progress_bar(progress, total, elapsed_time):\n",
    "    percent = 100 * (progress / total)\n",
    "    bar = '█' * int(percent) + '-' * (100 - int(percent))\n",
    "    eta_minutes, eta_seconds = divmod(elapsed_time, 60)\n",
    "    print(f\"\\rTesting:\\t|{bar}| {percent:.2f}%\\tETA: {eta_minutes:.0f} mins {eta_seconds:.0f} seconds    \", end='\\r')"
   ]
  },
  {
   "cell_type": "code",
   "execution_count": 20,
   "metadata": {},
   "outputs": [
    {
     "name": "stdout",
     "output_type": "stream",
     "text": [
      "Testing:\t|████████████████████████████████████████████████████████████████████████████████████████████████████| 100.00%\tETA: 13 mins 13 seconds    \n",
      "Testing Complete. Total time: 22 mins 36 seconds\n",
      "\n"
     ]
    }
   ],
   "source": [
    "model = pickle.load(open(\"model.pkl\", 'rb'))\n",
    "df = pd.read_csv('dataset/test-data-test-case.csv', encoding='utf-8', dtype={'column1': 'string', 'column2': 'string'})\n",
    "text_data = df['sentence'].tolist()\n",
    "true_labels = df['lan_code'].tolist()\n",
    "length_data = len(text_data)\n",
    "\n",
    "with open('dataset/lan_to_language.json', 'r', encoding='utf-8') as file:\n",
    "    lan_to_language = json.load(file)\n",
    "\n",
    "start_time = time.time()\n",
    "# Initial prediction for time estimation\n",
    "predicted_language = model.predict(text_data[0])\n",
    "elapsed_time = time.time() - start_time\n",
    "\n",
    "total_time = elapsed_time * length_data * 2  # Estimated total time (200% buffer)\n",
    "\n",
    "predicted_labels = [lan_to_language[predicted_language]]\n",
    "\n",
    "for i in range(1, length_data):\n",
    "    start_time = time.time()\n",
    "    predicted_language = model.predict(text_data[i])\n",
    "    elapsed_time = time.time() - start_time\n",
    "\n",
    "    predicted_labels.append(lan_to_language[predicted_language])\n",
    "\n",
    "    total_time -= elapsed_time\n",
    "    progress_bar(i + 1, length_data, total_time)\n",
    "\n",
    "eta_minutes, eta_seconds = divmod((elapsed_time * length_data * 3 - total_time), 60)\n",
    "print(f\"\\nTesting Complete. Total time: {eta_minutes:.0f} mins {eta_seconds:.0f} seconds\\n\")"
   ]
  },
  {
   "cell_type": "code",
   "execution_count": 24,
   "metadata": {},
   "outputs": [],
   "source": [
    "def language(lan_code):\n",
    "    file_path = 'dataset/lan_to_language.json'\n",
    "\n",
    "    with open(file_path, 'r', encoding='utf-8') as file:\n",
    "        lan_to_language = json.load(file)\n",
    "        \n",
    "    return lan_to_language[lan_code]"
   ]
  },
  {
   "cell_type": "code",
   "execution_count": 25,
   "metadata": {},
   "outputs": [],
   "source": [
    "# Preprocess labels\n",
    "true_labels = [language(label).lower() for label in true_labels]\n",
    "predicted_labels = [language(label).lower() for label in predicted_labels]"
   ]
  },
  {
   "cell_type": "code",
   "execution_count": 27,
   "metadata": {},
   "outputs": [
    {
     "name": "stdout",
     "output_type": "stream",
     "text": [
      "['german', 'italian', 'lithuanian', 'berber languages', 'esperanto', 'italian', 'modern greek (1453-)', 'kabyle', 'russian', 'german', 'french', 'german', 'spanish', 'macedonian', 'german', 'kabyle', 'french', 'kabyle', 'spanish', 'french', 'german', 'esperanto', 'lojban', 'czech', 'iranian persian', 'danish', 'english', 'french', 'berber languages', 'russian', 'french', 'northern kurdish', 'english', 'marathi', 'turkish', 'hebrew', 'mandarin chinese', 'afrikaans', 'english', 'kabyle', 'english', 'czech', 'french', 'german', 'french', 'macedonian', 'turkish', 'tagalog', 'turkish', 'esperanto', 'italian', 'turkish', 'italian', 'english', 'finnish', 'russian', 'english', 'russian', 'portuguese', 'russian', 'lithuanian', 'hungarian', 'esperanto', 'turkish', 'italian', 'serbian', 'esperanto', 'finnish', 'hungarian', 'kabyle', 'french', 'italian', 'thai', 'hebrew', 'brithenig', 'english', 'portuguese', 'english', 'turkish', 'berber languages', 'portuguese', 'kabyle', 'german', 'russian', 'russian', 'turkish', 'hungarian', 'japanese', 'kabyle', 'berber languages', 'finnish', 'italian', 'english', 'dutch', 'english', 'turkish', 'tatar', 'portuguese', 'kabyle', 'icelandic', 'macedonian', 'macedonian', 'english', 'english', 'english', 'hungarian', 'czech', 'turkish', 'french', 'russian', 'english', 'serbian', 'french', 'marathi', 'hebrew', 'french', 'kabyle', 'thai', 'german', 'portuguese', 'german', 'italian', 'japanese', 'hungarian', 'portuguese', 'russian', 'german', 'czech', 'portuguese', 'french', 'spanish', 'german', 'esperanto', 'kabyle', 'turkish', 'italian', 'italian', 'berber languages', 'esperanto', 'berber languages', 'french', 'iloko', 'hebrew', 'german', 'toki pona', 'russian', 'german', 'italian', 'english', 'russian', 'finnish', 'hungarian', 'mongolian', 'english', 'hebrew', 'japanese', 'esperanto', 'esperanto', 'german', 'russian', 'berber languages', 'esperanto', 'spanish', 'ukrainian', 'english', 'hungarian', 'hebrew', 'russian', 'finnish', 'russian', 'italian', 'portuguese', 'mandarin chinese', 'spanish', 'spanish', 'german', 'english', 'english', 'turkish', 'german', 'turkish', 'turkish', 'italian', 'russian', 'esperanto', 'japanese', 'berber languages', 'hungarian', 'portuguese', 'english', 'hebrew', 'berber languages', 'turkish', 'spanish', 'french', 'mandarin chinese', 'esperanto', 'german', 'turkish', 'dutch', 'berber languages', 'kabyle', 'dutch', 'italian', 'french', 'kabyle', 'english', 'english', 'english', 'german', 'italian', 'english', 'english', 'lithuanian', 'italian', 'interlingua (international auxiliary language association)', 'english', 'portuguese', 'toki pona', 'spanish', 'russian', 'portuguese', 'hebrew', 'german', 'french', 'berber languages', 'esperanto', 'finnish', 'italian', 'italian', 'russian', 'esperanto', 'spanish', 'indonesian', 'spanish', 'hungarian', 'german', 'toki pona', 'english', 'hebrew', 'kabyle', 'english', 'german', 'mandarin chinese', 'esperanto', 'japanese', 'english', 'swedish', 'esperanto', 'english', 'portuguese', 'russian', 'esperanto', 'italian', 'ukrainian', 'portuguese', 'german', 'german', 'turkish', 'english', 'berber languages', 'italian', 'portuguese', 'japanese', 'english', 'dutch', 'italian', 'english', 'slovak', 'hebrew', 'italian', 'turkish', 'french', 'french', 'russian', 'portuguese', 'berber languages', 'portuguese', 'esperanto', 'turkish', 'russian', 'russian', 'italian', 'german', 'berber languages', 'low german', 'english', 'german', 'turkish', 'kabyle', 'french', 'kabyle', 'esperanto', 'bulgarian', 'berber languages', 'hungarian', 'esperanto', 'ukrainian', 'kabyle', 'german', 'spanish', 'italian', 'portuguese', 'english', 'japanese', 'english', 'english', 'icelandic', 'turkish', 'italian', 'english', 'japanese', 'mandarin chinese', 'turkish', 'italian', 'marathi', 'german', 'hungarian', 'russian', 'dutch', 'russian', 'french', 'berber languages', 'english', 'russian', 'russian', 'english', 'portuguese', 'macedonian', 'berber languages', 'english', 'turkish', 'finnish', 'finnish', 'turkish', 'english', 'hebrew', 'macedonian', 'english', 'russian', 'portuguese', 'spanish', 'italian', 'esperanto', 'german', 'german', 'kabyle', 'russian', 'english', 'hungarian', 'french', 'polish', 'english', 'french', 'english', 'russian', 'russian', 'spanish', 'portuguese', 'russian', 'english', 'russian', 'kabyle', 'french', 'french', 'russian', 'russian', 'english', 'ukrainian', 'kabyle', 'russian', 'berber languages', 'japanese', 'turkish', 'swedish', 'berber languages', 'portuguese', 'bengali', 'russian', 'esperanto', 'english', 'italian', 'kadazan dusun', 'english', 'turkish', 'russian', 'english', 'japanese', 'english', 'marathi', 'russian', 'russian', 'toki pona', 'hungarian', 'hebrew', 'russian', 'turkish', 'turkish', 'italian', 'turkish', 'english', 'standard moroccan tamazight', 'english', 'english', 'turkish', 'turkish', 'kabyle', 'macedonian', 'german', 'russian', 'kabyle', 'kabyle', 'oriya (macrolanguage)', 'english', 'danish', 'russian', 'spanish', 'turkish', 'japanese', 'german', 'portuguese', 'english', 'english', 'italian', 'french', 'turkish', 'esperanto', 'german', 'italian', 'english', 'serbian', 'ukrainian', 'english', 'russian', 'finnish', 'hungarian', 'german', 'hebrew', 'english', 'italian', 'czech', 'dutch', 'english', 'portuguese', 'klingon', 'german', 'russian', 'turkish', 'esperanto', 'russian', 'english', 'turkish', 'ukrainian', 'esperanto', 'italian', 'english', 'russian', 'russian', 'turkish', 'french', 'german', 'turkish', 'berber languages', 'spanish', 'kabyle', 'polish', 'russian', 'english', 'cornish', 'berber languages', 'hungarian', 'english', 'german', 'swedish', 'esperanto', 'italian', 'italian', 'turkish', 'english', 'german', 'russian', 'turkish', 'russian', 'esperanto', 'esperanto', 'berber languages', 'ukrainian', 'esperanto', 'english', 'portuguese', 'hebrew', 'hebrew', 'italian', 'japanese', 'esperanto', 'hebrew', 'dutch', 'turkish', 'russian', 'french', 'berber languages', 'portuguese', 'english', 'french', 'english', 'hebrew', 'portuguese', 'english', 'lithuanian', 'esperanto', 'berber languages', 'hungarian', 'turkish', 'italian', 'swedish', 'afrikaans', 'esperanto', 'hindi', 'italian', 'berber languages', 'turkish', 'english', 'russian', 'russian', 'french', 'kabyle', 'egyptian arabic', 'japanese', 'spanish', 'estonian', 'turkish', 'tatar', 'italian', 'english', 'lithuanian', 'hebrew', 'berber languages', 'kabyle', 'russian', 'russian', 'berber languages', 'english', 'indonesian', 'french', 'french', 'esperanto', 'italian', 'english', 'russian', 'berber languages', 'hungarian', 'turkish', 'russian', 'portuguese', 'kabyle', 'english', 'english', 'italian', 'esperanto', 'german', 'english', 'hebrew', 'turkish', 'turkish', 'lithuanian', 'french', 'kabyle', 'portuguese', 'kabyle', 'kabyle', 'portuguese', 'french', 'kabyle', 'kabyle', 'english', 'english', 'ukrainian', 'german', 'berber languages', 'english', 'russian', 'german', 'japanese', 'turkish', 'polish', 'japanese', 'kabyle', 'modern greek (1453-)', 'english', 'english', 'german', 'turkish', 'german', 'finnish', 'esperanto', 'esperanto', 'italian', 'yiddish', 'berber languages', 'hungarian', 'english', 'italian', 'french', 'marathi', 'dutch', 'russian', 'russian', 'spanish', 'kabyle', 'french', 'hungarian', 'berber languages', 'russian', 'hungarian', 'english', 'kabyle', 'turkish', 'english', 'finnish', 'italian', 'english', 'portuguese', 'berber languages', 'italian', 'mandarin chinese', 'kabyle', 'english', 'italian', 'dutch', 'english', 'english', 'kabyle', 'portuguese', 'italian', 'russian', 'portuguese', 'turkish', 'hungarian', 'kabyle', 'berber languages', 'berber languages', 'english', 'english', 'english', 'ukrainian', 'japanese', 'english', 'russian', 'english', 'kabyle', 'german', 'portuguese', 'hungarian', 'french', 'kabyle', 'esperanto', 'italian', 'hungarian', 'berber languages', 'russian', 'french', 'english', 'esperanto', 'german', 'turkish', 'russian', 'russian', 'marathi', 'german', 'russian', 'berber languages', 'french', 'turkish', 'russian', 'english', 'russian', 'russian', 'berber languages', 'english', 'kabyle', 'french', 'indonesian', 'hebrew', 'italian', 'portuguese', 'kabyle', 'english', 'japanese', 'hungarian', 'italian', 'esperanto', 'english', 'french', 'lojban', 'marathi', 'german', 'kabyle', 'spanish', 'english', 'dutch', 'italian', 'kabyle', 'italian', 'berber languages', 'turkish', 'esperanto', 'lithuanian', 'finnish', 'berber languages', 'russian', 'hebrew', 'berber languages', 'berber languages', 'esperanto', 'french', 'german', 'kabyle', 'italian', 'bulgarian', 'french', 'esperanto', 'esperanto', 'english', 'polish', 'kabyle', 'hebrew', 'english', 'italian', 'english', 'portuguese', 'esperanto', 'toki pona', 'georgian', 'spanish', 'thai', 'romanian', 'hungarian', 'ladino', 'french', 'english', 'upper sorbian', 'turkish', 'polish', 'english', 'portuguese', 'berber languages', 'italian', 'turkish', 'english', 'italian', 'arabic', 'russian', 'kven finnish', 'hungarian', 'berber languages', 'finnish', 'turkish', 'english', 'russian', 'mandarin chinese', 'berber languages', 'berber languages', 'turkish', 'low german', 'turkish', 'spanish', 'berber languages', 'french', 'spanish', 'hebrew', 'english', 'russian', 'lithuanian', 'berber languages', 'berber languages', 'kabyle', 'kabyle', 'english', 'berber languages', 'french', 'english', 'hebrew', 'english', 'esperanto', 'spanish', 'hungarian', 'hungarian', 'arabic', 'french', 'english', 'english', 'portuguese', 'berber languages', 'english', 'turkish', 'serbian', 'turkish', 'croatian', 'esperanto', 'zaza', 'lojban', 'german', 'danish', 'turkish', 'russian', 'english', 'esperanto', 'german', 'japanese', 'turkish', 'esperanto', 'italian', 'czech', 'english', 'italian', 'english', 'berber languages', 'modern greek (1453-)', 'italian', 'turkish', 'italian', 'japanese', 'dutch', 'turkish', 'russian', 'english', 'dutch', 'english', 'french', 'english', 'turkish', 'french', 'german', 'hebrew', 'russian', 'czech', 'russian', 'kabyle', 'turkish', 'english', 'mandarin chinese', 'esperanto', 'italian', 'kabyle', 'english', 'occitan (post 1500)', 'italian', 'esperanto', 'kabyle', 'kabyle', 'german', 'english', 'english', 'german', 'italian', 'turkish', 'portuguese', 'modern greek (1453-)', 'berber languages', 'french', 'russian', 'turkish', 'french', 'kabyle', 'berber languages', 'mandarin chinese', 'russian', 'french', 'english', 'japanese', 'lithuanian', 'french', 'russian', 'french', 'dutch', 'turkish', 'turkish', 'german', 'english', 'modern greek (1453-)', 'italian', 'kabyle', 'turkish', 'polish', 'english', 'english', 'english', 'french', 'turkish', 'japanese', 'russian', 'portuguese', 'quenya', 'english', 'hungarian', 'hungarian', 'esperanto', 'turkish', 'berber languages', 'portuguese', 'english', 'kabyle', 'italian', 'english', 'esperanto', 'english', 'italian', 'english', 'english', 'english', 'russian', 'german', 'arabic', 'spanish', 'german', 'english', 'finnish', 'czech', 'macedonian', 'lingua franca nova', 'italian', 'finnish', 'tatar', 'finnish', 'kabyle', 'danish', 'english', 'spanish', 'hebrew', 'italian', 'german', 'japanese', 'turkish', 'berber languages', 'turkish', 'english', 'english', 'esperanto', 'finnish', 'turkish', 'english', 'russian', 'italian', 'kabyle', 'german', 'german', 'kabyle', 'southern kurdish', 'italian', 'portuguese', 'hungarian', 'kabyle', 'modern greek (1453-)', 'hebrew', 'english', 'portuguese', 'gronings', 'french', 'portuguese', 'portuguese', 'english', 'marathi', 'polish', 'kabyle', 'russian', 'russian', 'kabyle', 'hungarian', 'portuguese', 'italian', 'english', 'hungarian', 'esperanto', 'dutch', 'french', 'spanish', 'russian', 'kabyle', 'russian', 'russian', 'english', 'hungarian', 'lingua franca nova', 'russian', 'english', 'english', 'gronings', 'spanish', 'lingua franca nova', 'berber languages', 'hungarian', 'berber languages', 'interlingua (international auxiliary language association)', 'english', 'russian', 'macedonian', 'dutch', 'ukrainian', 'german']\n"
     ]
    }
   ],
   "source": [
    "print(true_labels)"
   ]
  },
  {
   "cell_type": "code",
   "execution_count": 28,
   "metadata": {},
   "outputs": [
    {
     "name": "stdout",
     "output_type": "stream",
     "text": [
      "['german', 'italian', 'lithuanian', 'kabyle', 'esperanto', 'italian', 'modern greek (1453-)', 'berber languages', 'russian', 'german', 'french', 'german', 'spanish', 'macedonian', 'german', 'kabyle', 'french', 'berber languages', 'spanish', 'french', 'german', 'esperanto', 'lojban', 'spanish', 'iranian persian', 'danish', 'english', 'french', 'berber languages', 'russian', 'french', 'hungarian', 'english', 'marathi', 'turkish', 'hebrew', 'mandarin chinese', 'dutch', 'english', 'kabyle', 'english', 'czech', 'french', 'german', 'french', 'macedonian', 'turkish', 'tagalog', 'turkish', 'esperanto', 'italian', 'turkish', 'italian', 'english', 'finnish', 'russian', 'english', 'russian', 'portuguese', 'russian', 'lithuanian', 'hungarian', 'esperanto', 'turkish', 'italian', 'serbian', 'esperanto', 'finnish', 'hungarian', 'kabyle', 'french', 'portuguese', 'thai', 'hebrew', 'latin', 'english', 'portuguese', 'english', 'turkish', 'berber languages', 'portuguese', 'berber languages', 'german', 'russian', 'russian', 'turkish', 'hungarian', 'japanese', 'kabyle', 'kabyle', 'finnish', 'italian', 'english', 'dutch', 'english', 'turkish', 'tatar', 'portuguese', 'kabyle', 'icelandic', 'macedonian', 'macedonian', 'english', 'english', 'english', 'hungarian', 'czech', 'turkish', 'french', 'russian', 'english', 'macedonian', 'french', 'marathi', 'hebrew', 'french', 'kabyle', 'thai', 'german', 'portuguese', 'german', 'italian', 'japanese', 'hungarian', 'portuguese', 'russian', 'german', 'czech', 'portuguese', 'french', 'spanish', 'german', 'esperanto', 'kabyle', 'turkish', 'italian', 'italian', 'berber languages', 'esperanto', 'berber languages', 'french', 'lithuanian', 'hebrew', 'german', 'toki pona', 'russian', 'german', 'italian', 'english', 'russian', 'finnish', 'hungarian', 'mongolian', 'english', 'hebrew', 'japanese', 'esperanto', 'esperanto', 'german', 'russian', 'berber languages', 'esperanto', 'spanish', 'ukrainian', 'english', 'hungarian', 'hebrew', 'russian', 'finnish', 'russian', 'italian', 'portuguese', 'mandarin chinese', 'spanish', 'spanish', 'german', 'english', 'english', 'turkish', 'german', 'turkish', 'turkish', 'italian', 'russian', 'esperanto', 'japanese', 'berber languages', 'hungarian', 'portuguese', 'english', 'hebrew', 'berber languages', 'turkish', 'spanish', 'french', 'mandarin chinese', 'esperanto', 'german', 'turkish', 'dutch', 'berber languages', 'kabyle', 'dutch', 'italian', 'french', 'berber languages', 'english', 'english', 'english', 'german', 'italian', 'english', 'english', 'lithuanian', 'italian', 'interlingua (international auxiliary language association)', 'english', 'portuguese', 'toki pona', 'spanish', 'russian', 'portuguese', 'hebrew', 'german', 'french', 'berber languages', 'esperanto', 'finnish', 'italian', 'italian', 'russian', 'esperanto', 'spanish', 'indonesian', 'spanish', 'hungarian', 'german', 'toki pona', 'english', 'hebrew', 'kabyle', 'english', 'german', 'mandarin chinese', 'esperanto', 'japanese', 'english', 'swedish', 'esperanto', 'english', 'portuguese', 'russian', 'esperanto', 'italian', 'ukrainian', 'portuguese', 'german', 'german', 'turkish', 'english', 'berber languages', 'italian', 'portuguese', 'japanese', 'english', 'dutch', 'italian', 'english', 'slovak', 'hebrew', 'italian', 'turkish', 'french', 'french', 'russian', 'portuguese', 'berber languages', 'portuguese', 'esperanto', 'turkish', 'russian', 'russian', 'italian', 'german', 'kabyle', 'low german', 'english', 'german', 'turkish', 'berber languages', 'french', 'berber languages', 'esperanto', 'bulgarian', 'berber languages', 'hungarian', 'esperanto', 'ukrainian', 'berber languages', 'german', 'spanish', 'italian', 'portuguese', 'english', 'japanese', 'english', 'english', 'icelandic', 'turkish', 'italian', 'english', 'japanese', 'mandarin chinese', 'turkish', 'italian', 'marathi', 'german', 'hungarian', 'russian', 'dutch', 'russian', 'french', 'berber languages', 'english', 'russian', 'russian', 'english', 'portuguese', 'macedonian', 'berber languages', 'english', 'turkish', 'finnish', 'finnish', 'turkish', 'english', 'hebrew', 'macedonian', 'english', 'russian', 'portuguese', 'spanish', 'italian', 'esperanto', 'german', 'german', 'berber languages', 'russian', 'english', 'hungarian', 'french', 'polish', 'english', 'french', 'english', 'russian', 'russian', 'spanish', 'portuguese', 'russian', 'english', 'russian', 'berber languages', 'french', 'french', 'russian', 'russian', 'english', 'ukrainian', 'kabyle', 'russian', 'berber languages', 'japanese', 'turkish', 'swedish', 'berber languages', 'portuguese', 'bengali', 'russian', 'esperanto', 'english', 'italian', 'finnish', 'english', 'turkish', 'russian', 'english', 'japanese', 'english', 'marathi', 'russian', 'russian', 'toki pona', 'hungarian', 'hebrew', 'russian', 'turkish', 'turkish', 'italian', 'turkish', 'english', 'standard moroccan tamazight', 'english', 'english', 'turkish', 'turkish', 'kabyle', 'macedonian', 'german', 'russian', 'kabyle', 'kabyle', 'oriya (macrolanguage)', 'english', 'danish', 'russian', 'spanish', 'turkish', 'japanese', 'german', 'portuguese', 'english', 'english', 'italian', 'french', 'turkish', 'esperanto', 'german', 'italian', 'english', 'serbian', 'ukrainian', 'english', 'russian', 'finnish', 'hungarian', 'german', 'hebrew', 'english', 'italian', 'czech', 'dutch', 'english', 'portuguese', 'klingon', 'german', 'russian', 'turkish', 'esperanto', 'russian', 'english', 'turkish', 'ukrainian', 'esperanto', 'italian', 'english', 'russian', 'russian', 'turkish', 'french', 'german', 'turkish', 'berber languages', 'spanish', 'kabyle', 'polish', 'russian', 'english', 'cornish', 'berber languages', 'hungarian', 'english', 'german', 'swedish', 'esperanto', 'italian', 'italian', 'turkish', 'english', 'german', 'russian', 'turkish', 'russian', 'esperanto', 'esperanto', 'berber languages', 'ukrainian', 'esperanto', 'english', 'portuguese', 'hebrew', 'hebrew', 'portuguese', 'japanese', 'esperanto', 'hebrew', 'dutch', 'turkish', 'russian', 'french', 'berber languages', 'portuguese', 'english', 'french', 'english', 'hebrew', 'portuguese', 'english', 'lithuanian', 'esperanto', 'berber languages', 'hungarian', 'turkish', 'italian', 'swedish', 'dutch', 'esperanto', 'hindi', 'italian', 'kabyle', 'turkish', 'english', 'russian', 'russian', 'french', 'kabyle', 'arabic', 'japanese', 'spanish', 'finnish', 'turkish', 'tatar', 'italian', 'english', 'lithuanian', 'hebrew', 'berber languages', 'kabyle', 'russian', 'russian', 'berber languages', 'english', 'indonesian', 'french', 'french', 'esperanto', 'italian', 'english', 'russian', 'kabyle', 'hungarian', 'turkish', 'russian', 'portuguese', 'kabyle', 'english', 'english', 'italian', 'esperanto', 'german', 'english', 'hebrew', 'turkish', 'turkish', 'lithuanian', 'french', 'kabyle', 'portuguese', 'berber languages', 'kabyle', 'portuguese', 'french', 'berber languages', 'berber languages', 'english', 'english', 'ukrainian', 'german', 'berber languages', 'english', 'russian', 'german', 'japanese', 'turkish', 'polish', 'japanese', 'berber languages', 'modern greek (1453-)', 'english', 'english', 'german', 'turkish', 'german', 'finnish', 'esperanto', 'esperanto', 'italian', 'yiddish', 'berber languages', 'hungarian', 'english', 'italian', 'french', 'marathi', 'dutch', 'russian', 'russian', 'spanish', 'kabyle', 'french', 'hungarian', 'berber languages', 'russian', 'hungarian', 'english', 'berber languages', 'turkish', 'english', 'finnish', 'italian', 'english', 'portuguese', 'kabyle', 'italian', 'mandarin chinese', 'kabyle', 'english', 'italian', 'dutch', 'english', 'english', 'kabyle', 'portuguese', 'italian', 'russian', 'portuguese', 'turkish', 'hungarian', 'kabyle', 'berber languages', 'kabyle', 'english', 'english', 'english', 'ukrainian', 'japanese', 'english', 'russian', 'english', 'kabyle', 'german', 'portuguese', 'hungarian', 'french', 'berber languages', 'esperanto', 'italian', 'hungarian', 'berber languages', 'russian', 'french', 'english', 'esperanto', 'german', 'turkish', 'russian', 'russian', 'marathi', 'german', 'russian', 'berber languages', 'french', 'turkish', 'russian', 'english', 'russian', 'russian', 'berber languages', 'english', 'berber languages', 'french', 'indonesian', 'hebrew', 'italian', 'portuguese', 'kabyle', 'english', 'wu chinese', 'hungarian', 'italian', 'esperanto', 'english', 'french', 'lojban', 'marathi', 'german', 'kabyle', 'spanish', 'english', 'dutch', 'italian', 'kabyle', 'italian', 'berber languages', 'turkish', 'esperanto', 'lithuanian', 'finnish', 'berber languages', 'russian', 'hebrew', 'berber languages', 'berber languages', 'esperanto', 'french', 'german', 'kabyle', 'italian', 'bulgarian', 'french', 'esperanto', 'esperanto', 'english', 'polish', 'kabyle', 'hebrew', 'english', 'italian', 'english', 'portuguese', 'esperanto', 'toki pona', 'georgian', 'spanish', 'thai', 'romanian', 'hungarian', 'spanish', 'french', 'english', 'czech', 'turkish', 'polish', 'english', 'portuguese', 'berber languages', 'italian', 'turkish', 'english', 'italian', 'arabic', 'russian', 'finnish', 'hungarian', 'berber languages', 'finnish', 'turkish', 'english', 'russian', 'mandarin chinese', 'kabyle', 'berber languages', 'turkish', 'german', 'turkish', 'spanish', 'berber languages', 'french', 'spanish', 'hebrew', 'english', 'russian', 'lithuanian', 'berber languages', 'berber languages', 'kabyle', 'kabyle', 'english', 'berber languages', 'french', 'english', 'hebrew', 'english', 'esperanto', 'spanish', 'hungarian', 'hungarian', 'arabic', 'french', 'english', 'english', 'portuguese', 'berber languages', 'english', 'turkish', 'serbian', 'turkish', 'serbian', 'esperanto', 'turkish', 'lojban', 'german', 'danish', 'turkish', 'russian', 'english', 'esperanto', 'german', 'japanese', 'turkish', 'esperanto', 'italian', 'czech', 'english', 'italian', 'english', 'berber languages', 'modern greek (1453-)', 'italian', 'turkish', 'italian', 'japanese', 'dutch', 'turkish', 'russian', 'english', 'dutch', 'english', 'french', 'english', 'turkish', 'french', 'german', 'hebrew', 'russian', 'esperanto', 'russian', 'kabyle', 'turkish', 'english', 'mandarin chinese', 'esperanto', 'italian', 'kabyle', 'english', 'spanish', 'italian', 'esperanto', 'kabyle', 'kabyle', 'german', 'english', 'english', 'german', 'italian', 'turkish', 'portuguese', 'modern greek (1453-)', 'kabyle', 'french', 'russian', 'turkish', 'french', 'kabyle', 'berber languages', 'mandarin chinese', 'russian', 'french', 'english', 'japanese', 'lithuanian', 'french', 'russian', 'french', 'dutch', 'turkish', 'turkish', 'german', 'english', 'modern greek (1453-)', 'italian', 'kabyle', 'turkish', 'polish', 'english', 'english', 'english', 'french', 'turkish', 'japanese', 'russian', 'portuguese', 'finnish', 'english', 'hungarian', 'hungarian', 'esperanto', 'turkish', 'berber languages', 'portuguese', 'english', 'kabyle', 'italian', 'english', 'esperanto', 'english', 'italian', 'english', 'english', 'english', 'russian', 'german', 'arabic', 'portuguese', 'german', 'english', 'finnish', 'czech', 'macedonian', 'spanish', 'italian', 'finnish', 'tatar', 'finnish', 'kabyle', 'danish', 'english', 'spanish', 'hebrew', 'italian', 'german', 'japanese', 'turkish', 'kabyle', 'turkish', 'english', 'english', 'esperanto', 'finnish', 'turkish', 'english', 'russian', 'italian', 'kabyle', 'german', 'german', 'kabyle', 'central kurdish', 'italian', 'portuguese', 'hungarian', 'kabyle', 'modern greek (1453-)', 'hebrew', 'english', 'portuguese', 'dutch', 'french', 'portuguese', 'portuguese', 'english', 'marathi', 'polish', 'berber languages', 'russian', 'russian', 'kabyle', 'hungarian', 'portuguese', 'italian', 'english', 'hungarian', 'esperanto', 'dutch', 'french', 'spanish', 'russian', 'kabyle', 'russian', 'russian', 'english', 'hungarian', 'lingua franca nova', 'russian', 'english', 'english', 'dutch', 'spanish', 'spanish', 'berber languages', 'hungarian', 'berber languages', 'interlingua (international auxiliary language association)', 'english', 'russian', 'macedonian', 'dutch', 'ukrainian', 'german']\n"
     ]
    }
   ],
   "source": [
    "print(predicted_labels)"
   ]
  },
  {
   "cell_type": "code",
   "execution_count": 29,
   "metadata": {},
   "outputs": [
    {
     "name": "stdout",
     "output_type": "stream",
     "text": [
      "Performance Metrics:\n",
      "Accuracy: 94.49\n",
      "Precision: 93.33\n",
      "Recall: 94.49\n",
      "F1-Score: 93.75\n"
     ]
    }
   ],
   "source": [
    "# Compute metrics\n",
    "accuracy = accuracy_score(true_labels, predicted_labels)\n",
    "precision = precision_score(true_labels, predicted_labels, average='weighted', zero_division=0)\n",
    "recall = recall_score(true_labels, predicted_labels, average='weighted', zero_division=0)\n",
    "f1 = f1_score(true_labels, predicted_labels, average='weighted', zero_division=0)\n",
    "\n",
    "# Print the metrics\n",
    "print(\"Performance Metrics:\")\n",
    "print(f\"Accuracy: {accuracy*100:.2f}\")\n",
    "print(f\"Precision: {precision*100:.2f}\")\n",
    "print(f\"Recall: {recall*100:.2f}\")\n",
    "print(f\"F1-Score: {f1*100:.2f}\")"
   ]
  }
 ],
 "metadata": {
  "kernelspec": {
   "display_name": "env",
   "language": "python",
   "name": "python3"
  },
  "language_info": {
   "codemirror_mode": {
    "name": "ipython",
    "version": 3
   },
   "file_extension": ".py",
   "mimetype": "text/x-python",
   "name": "python",
   "nbconvert_exporter": "python",
   "pygments_lexer": "ipython3",
   "version": "3.11.0"
  }
 },
 "nbformat": 4,
 "nbformat_minor": 2
}
